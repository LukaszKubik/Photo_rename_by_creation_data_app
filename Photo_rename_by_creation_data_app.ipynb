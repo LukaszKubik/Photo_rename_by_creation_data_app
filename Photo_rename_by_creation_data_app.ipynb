{
 "cells": [
  {
   "cell_type": "code",
   "execution_count": 1,
   "id": "c7a19338-3074-40e8-bdf4-b9877e456b49",
   "metadata": {},
   "outputs": [
    {
     "name": "stdout",
     "output_type": "stream",
     "text": [
      "Please provide with file location:\n"
     ]
    },
    {
     "name": "stdin",
     "output_type": "stream",
     "text": [
      " C:\\Users\\kubic\\OneDrive\\Pulpit\\202403__\\bum\n"
     ]
    }
   ],
   "source": [
    "import os\n",
    "import datetime\n",
    "\n",
    "def get_creation_date(file_path):\n",
    "    try:\n",
    "        timestamp = os.path.getctime(file_path)\n",
    "        creation_date = datetime.datetime.fromtimestamp(timestamp).strftime(\"%Y-%m-%d\")\n",
    "        return creation_date\n",
    "    except FileNotFoundError:\n",
    "        return None\n",
    "        \n",
    "print(\"Please provide with file location:\")\n",
    "x = input()\n",
    "\n",
    "source_location = x\n",
    "\n",
    "for item in os.listdir(source_location):\n",
    "    # check if an item is file or not and then if it is a photo\n",
    "    if os.path.isfile(os.path.join(source_location, item)):\n",
    "        if item.endswith('.jpg') or item.endswith('.HEIC') or item.endswith('.PNG') or item.endswith('.JPEG'):\n",
    "            try:\n",
    "                heic_file_path = os.path.join(source_location, item)\n",
    "                creation_date = get_creation_date(heic_file_path)\n",
    "\n",
    "                # renaming a photo\n",
    "                os.rename(\n",
    "                    os.path.join(source_location, item),\n",
    "                    os.path.join(source_location, creation_date + \" \" + item)\n",
    "                )\n",
    "            except PermissionError:\n",
    "                continue\n",
    "            except Exception as e:\n",
    "                raise Exception(e)\n",
    "                "
   ]
  },
  {
   "cell_type": "code",
   "execution_count": null,
   "id": "fb7abc50-3eb0-4208-88ed-21ec71eac3db",
   "metadata": {},
   "outputs": [],
   "source": []
  }
 ],
 "metadata": {
  "kernelspec": {
   "display_name": "Python 3 (ipykernel)",
   "language": "python",
   "name": "python3"
  },
  "language_info": {
   "codemirror_mode": {
    "name": "ipython",
    "version": 3
   },
   "file_extension": ".py",
   "mimetype": "text/x-python",
   "name": "python",
   "nbconvert_exporter": "python",
   "pygments_lexer": "ipython3",
   "version": "3.11.7"
  }
 },
 "nbformat": 4,
 "nbformat_minor": 5
}
